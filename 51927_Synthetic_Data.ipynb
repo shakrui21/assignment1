{
 "cells": [
  {
   "cell_type": "code",
   "execution_count": 1,
   "metadata": {},
   "outputs": [],
   "source": [
    "import sqlite3\n",
    "from faker import Faker\n",
    "import random\n",
    "import pandas as pd\n",
    "import time"
   ]
  },
  {
   "cell_type": "code",
   "execution_count": 2,
   "metadata": {},
   "outputs": [],
   "source": [
    "fake = Faker()"
   ]
  },
  {
   "cell_type": "code",
   "execution_count": 14,
   "metadata": {},
   "outputs": [],
   "source": [
    "conn = sqlite3.connect('e-commerce.db')\n",
    "cursor = conn.cursor()"
   ]
  },
  {
   "cell_type": "code",
   "execution_count": 4,
   "metadata": {},
   "outputs": [
    {
     "name": "stdout",
     "output_type": "stream",
     "text": [
      "50 CONSUMER records committed.\n",
      "100 CONSUMER records committed.\n",
      "150 CONSUMER records committed.\n",
      "200 CONSUMER records committed.\n",
      "Total of 200 records inserted successfully into CONSUMER table.\n"
     ]
    }
   ],
   "source": [
    "def insert_CONSUMER_data(n):\n",
    "    for i in range(n):\n",
    "        cursor.execute(\"\"\"\n",
    "            INSERT INTO CONSUMER (Email, Name, Birth_date, Phone_number, Password, Country, Street, Postcode, Building, City)\n",
    "            VALUES (?, ?, ?, ?, ?, ?, ?, ?, ?, ?)\n",
    "        \"\"\", (\n",
    "            fake.unique.email(),\n",
    "            fake.first_name(),\n",
    "            fake.date_of_birth(minimum_age=18, maximum_age=80),\n",
    "            fake.random_int(min=1000000000, max=9999999999),\n",
    "            fake.password(length=10),\n",
    "            fake.country(),\n",
    "            fake.street_name(),\n",
    "            fake.postcode(),\n",
    "            fake.building_number(),\n",
    "            fake.city()\n",
    "        ))\n",
    "\n",
    "        if (i + 1) % 50 == 0:\n",
    "            conn.commit()\n",
    "            print(f\"{i + 1} CONSUMER records committed.\")\n",
    "            time.sleep(0.5)  # 等待\n",
    "\n",
    "    conn.commit()\n",
    "    print(f\"Total of {n} records inserted successfully into CONSUMER table.\")\n",
    "\n",
    "# Insert CONSUMER data\n",
    "insert_CONSUMER_data(200)"
   ]
  },
  {
   "cell_type": "code",
   "execution_count": 5,
   "metadata": {},
   "outputs": [
    {
     "name": "stdout",
     "output_type": "stream",
     "text": [
      "Product data inserted.\n"
     ]
    }
   ],
   "source": [
    "# Step 2: Insert data into PRODUCT from CSV\n",
    "df_product = pd.read_csv('Product_data.csv')\n",
    "df_product.to_sql('PRODUCT', conn, if_exists='append', index=False)\n",
    "conn.commit()\n",
    "print(\"Product data inserted.\")"
   ]
  },
  {
   "cell_type": "code",
   "execution_count": 6,
   "metadata": {},
   "outputs": [
    {
     "name": "stdout",
     "output_type": "stream",
     "text": [
      "50 PAYMENT records committed.\n",
      "100 PAYMENT records committed.\n",
      "150 PAYMENT records committed.\n",
      "200 PAYMENT records committed.\n",
      "200 PAYMENT records inserted.\n"
     ]
    }
   ],
   "source": [
    "# Step 3: Insert data into PAYMENT\n",
    "cursor.execute(\"SELECT Email FROM CONSUMER\")\n",
    "consumer_emails = [row[0] for row in cursor.fetchall()]\n",
    "\n",
    "def insert_payment_data(emails):\n",
    "    for i, email in enumerate(emails):\n",
    "        payment_id = i + 1\n",
    "        payment_type = random.choice([\"CREDIT_DEBIT\", \"VOUCHERS_GIFT\"])\n",
    "\n",
    "        cursor.execute(\"\"\"\n",
    "            INSERT INTO PAYMENT (Payment_ID, Payment_type, Email)\n",
    "            VALUES (?, ?, ?)\n",
    "        \"\"\", (payment_id, payment_type, email))\n",
    "\n",
    "        if (i + 1) % 50 == 0:\n",
    "            conn.commit()\n",
    "            time.sleep(1.0)\n",
    "            print(f\"{i + 1} PAYMENT records committed.\")\n",
    "\n",
    "    conn.commit()\n",
    "    print(f\"{len(emails)} PAYMENT records inserted.\")\n",
    "\n",
    "# Insert PAYMENT data using unique emails from the consumer list\n",
    "insert_payment_data(consumer_emails)"
   ]
  },
  {
   "cell_type": "code",
   "execution_count": 7,
   "metadata": {},
   "outputs": [
    {
     "name": "stdout",
     "output_type": "stream",
     "text": [
      "50 CREDIT_DEBIT records committed.\n",
      "97 CREDIT_DEBIT records inserted.\n"
     ]
    }
   ],
   "source": [
    "from datetime import datetime\n",
    "import random\n",
    "\n",
    "# Retrieve all Payment_IDs and Consumer Names where Payment_type is 'CREDIT_DEBIT'\n",
    "cursor.execute(\"\"\"\n",
    "    SELECT PAYMENT.Payment_ID, CONSUMER.Name\n",
    "    FROM PAYMENT\n",
    "    JOIN CONSUMER ON PAYMENT.Email = CONSUMER.Email\n",
    "    WHERE PAYMENT.Payment_type = 'CREDIT_DEBIT'\n",
    "\"\"\")\n",
    "credit_debit_records = cursor.fetchall()\n",
    "\n",
    "# Insert data into CREDIT_DEBIT for each PAYMENT ID with Payment_type as 'CREDIT_DEBIT'\n",
    "for i, (payment_id, consumer_name) in enumerate(credit_debit_records):\n",
    "    card_number = fake.unique.random_int(min=1000000000000000, max=9999999999999999)  # 16-digit card number\n",
    "    verification_code = random.randint(100, 999)  # 3-digit verification code\n",
    "    is_default = random.randint(0, 1)  # Default card flag, 0 or 1\n",
    "    \n",
    "    # Generate an expiry date in the future with a random year (1-5 years from now) and a random month\n",
    "    current_year = datetime.now().year\n",
    "    expiry_year = current_year + random.randint(1, 5)\n",
    "    expiry_month = random.randint(1, 12)\n",
    "    expiry_date = f\"{expiry_year}-{expiry_month:02d}-1\"  \n",
    "\n",
    "    cursor.execute(\"\"\"\n",
    "        INSERT INTO CREDIT_DEBIT (Card_number, Verification_code, Name, Is_default, Expiry_date, Payment_ID)\n",
    "        VALUES (?, ?, ?, ?, ?, ?)\n",
    "    \"\"\", (card_number, verification_code, consumer_name, is_default, expiry_date, payment_id))\n",
    "    \n",
    "    # Commit every 50 records and add a short delay\n",
    "    if (i + 1) % 50 == 0:\n",
    "        conn.commit()\n",
    "        time.sleep(1.0)  # Pause to reduce load on the database\n",
    "        print(f\"{i + 1} CREDIT_DEBIT records committed.\")\n",
    "\n",
    "# Final commit for any remaining records\n",
    "conn.commit()\n",
    "print(f\"{len(credit_debit_records)} CREDIT_DEBIT records inserted.\")"
   ]
  },
  {
   "cell_type": "code",
   "execution_count": 8,
   "metadata": {},
   "outputs": [
    {
     "name": "stdout",
     "output_type": "stream",
     "text": [
      "50 VOUCHERS_GIFT records committed.\n",
      "100 VOUCHERS_GIFT records committed.\n",
      "103 VOUCHERS_GIFT records inserted.\n"
     ]
    }
   ],
   "source": [
    "from datetime import datetime, timedelta\n",
    "\n",
    "# Retrieve all Payment_IDs where Payment_type is 'VOUCHERS_GIFT'\n",
    "cursor.execute(\"\"\"\n",
    "    SELECT PAYMENT.Payment_ID\n",
    "    FROM PAYMENT\n",
    "    JOIN CONSUMER ON PAYMENT.Email = CONSUMER.Email\n",
    "    WHERE PAYMENT.Payment_type = 'VOUCHERS_GIFT'\n",
    "\"\"\")\n",
    "vouchers_gift_records = cursor.fetchall()\n",
    "\n",
    "# Insert data into VOUCHERS_GIFT for each PAYMENT ID with Payment_type as 'VOUCHERS_GIFT'\n",
    "for i, record in enumerate(vouchers_gift_records):\n",
    "    payment_id = record[0]\n",
    "    serial_number = fake.unique.random_int(min=10000000000000, max=99999999999999)  # 14-digit serial number\n",
    "    total_amount = random.choice([x for x in range(1000, 3001, 100)])  # Choose from 1000, 1100, ..., 3000\n",
    "    current_balance = round(random.uniform(0, total_amount), 2)  # Balance with two decimal places, max as total_amount\n",
    "    expiry_date = datetime.now() + timedelta(days=random.randint(365, 730))  # Expiry date 1 to 2 years from now\n",
    "\n",
    "    cursor.execute(\"\"\"\n",
    "        INSERT INTO VOUCHERS_GIFT (Serial_number, Total_amount, Current_balance, Expiry_date, Payment_ID)\n",
    "        VALUES (?, ?, ?, ?, ?)\n",
    "    \"\"\", (serial_number, total_amount, current_balance, expiry_date, payment_id))\n",
    "    \n",
    "    # Commit every 50 records and add a short delay\n",
    "    if (i + 1) % 50 == 0:\n",
    "        conn.commit()\n",
    "        time.sleep(0.1)\n",
    "        print(f\"{i + 1} VOUCHERS_GIFT records committed.\")\n",
    "\n",
    "# Final commit for any remaining records\n",
    "conn.commit()\n",
    "print(f\"{len(vouchers_gift_records)} VOUCHERS_GIFT records inserted.\")"
   ]
  },
  {
   "cell_type": "code",
   "execution_count": 9,
   "metadata": {},
   "outputs": [
    {
     "name": "stdout",
     "output_type": "stream",
     "text": [
      "50 Basket records committed.\n",
      "100 Basket records committed.\n",
      "150 Basket records committed.\n",
      "200 Basket records committed.\n",
      "200 records successfully inserted into the BASKET table with product numbers.\n"
     ]
    }
   ],
   "source": [
    "# Retrieve all Product_numbers from the PRODUCT table\n",
    "cursor.execute(\"SELECT Product_number FROM PRODUCT\")\n",
    "product_numbers = [row[0] for row in cursor.fetchall()]\n",
    "\n",
    "# Retrieve all Emails from the CONSUMER table\n",
    "cursor.execute(\"SELECT Email FROM CONSUMER\")\n",
    "consumer_emails = [row[0] for row in cursor.fetchall()]\n",
    "\n",
    "# Function to insert data into the BASKET table, ensuring each consumer has a unique basket\n",
    "def insert_basket_data(consumer_emails):\n",
    "    for i, email in enumerate(consumer_emails):\n",
    "        # Randomly select 1 to 10 Product_numbers for each basket\n",
    "        selected_products = random.sample(product_numbers, k=random.randint(1, 10))\n",
    "        product_list = ','.join(map(str, selected_products))  # Convert list of product numbers to a comma-separated string\n",
    "        \n",
    "        # Basket_ID can be generated based on the index, assuming it's unique\n",
    "        basket_id = i + 1\n",
    "\n",
    "        # Insert data into the BASKET table for each consumer email\n",
    "        cursor.execute(\"\"\"\n",
    "            INSERT INTO BASKET (Basket_ID, Product_list, Email)\n",
    "            VALUES (?, ?, ?)\n",
    "        \"\"\", (basket_id, product_list, email))\n",
    "        \n",
    "        # Commit every 50 records and add a short delay\n",
    "        if (i + 1) % 50 == 0:\n",
    "            conn.commit()\n",
    "            time.sleep(2.0)\n",
    "            print(f\"{i + 1} Basket records committed.\")\n",
    "\n",
    "    # Commit any remaining records\n",
    "    conn.commit()\n",
    "    print(f\"{len(consumer_emails)} records successfully inserted into the BASKET table with product numbers.\")\n",
    "\n",
    "# Call the function to insert baskets for each consumer\n",
    "insert_basket_data(consumer_emails)"
   ]
  },
  {
   "cell_type": "code",
   "execution_count": 15,
   "metadata": {},
   "outputs": [
    {
     "name": "stdout",
     "output_type": "stream",
     "text": [
      "50 orders committed.\n",
      "100 orders committed.\n",
      "150 orders committed.\n",
      "200 orders committed.\n",
      "220 orders successfully inserted into the ORDERS table.\n"
     ]
    }
   ],
   "source": [
    "\n",
    "# Retrieve all necessary data for generating orders\n",
    "cursor.execute(\"\"\"\n",
    "    SELECT CONSUMER.Email, BASKET.Product_list, PAYMENT.Payment_ID \n",
    "    FROM CONSUMER \n",
    "    JOIN BASKET ON CONSUMER.Email = BASKET.Email \n",
    "    JOIN PAYMENT ON CONSUMER.Email = PAYMENT.Email\n",
    "\"\"\")\n",
    "consumer_data = cursor.fetchall()\n",
    "\n",
    "# Function to insert orders\n",
    "def insert_orders(n):\n",
    "    for i in range(n):\n",
    "        # Select a random consumer\n",
    "        email, product_list, payment_id = random.choice(consumer_data)\n",
    "        \n",
    "        # Generate a unique order number\n",
    "        order_number = i + 1\n",
    "        \n",
    "        # Generate an order date within this year\n",
    "        order_date = fake.date_this_year()\n",
    "        \n",
    "        # Split the product list by commas to get available product numbers for this consumer\n",
    "        product_numbers = product_list.split(',')\n",
    "        \n",
    "        # Select a subset or all of the products to be included in this order\n",
    "        selected_products = random.sample(product_numbers, k=random.randint(1, len(product_numbers)))\n",
    "        \n",
    "        # Join the selected products back into a single string for the order's product list\n",
    "        order_product_list = ','.join(selected_products)\n",
    "        \n",
    "        # Calculate the subtotal for the order by summing the subtotals of selected products\n",
    "        cursor.execute(f\"\"\"\n",
    "            SELECT SUM(Subtotal) \n",
    "            FROM Product_Subtotal_View\n",
    "            WHERE Product_number IN ({', '.join(['?'] * len(selected_products))})\n",
    "        \"\"\", selected_products)\n",
    "        \n",
    "        subtotal = cursor.fetchone()[0]\n",
    "        \n",
    "        # Check if subtotal is None and handle accordingly\n",
    "        if subtotal is None:\n",
    "            print(f\"Warning: Subtotal for order {order_number} with products {selected_products} is None.\")\n",
    "            continue  # Skip this order if subtotal couldn't be calculated\n",
    "        \n",
    "        # Apply a random discount or promotion\n",
    "        deduction_promotion = round(random.uniform(0, 50), 2)  # Random discount between £0 and £50\n",
    "        grand_total = subtotal - deduction_promotion\n",
    "        \n",
    "        # Insert the order into the ORDERS table\n",
    "        cursor.execute(\"\"\"\n",
    "            INSERT INTO ORDERS (Order_number, Order_date, Product, Subtotal, Deduction_Promotion, Email, Payment_ID)\n",
    "            VALUES (?, ?, ?, ?, ?, ?, ?)\n",
    "        \"\"\", (order_number, order_date, order_product_list, subtotal, deduction_promotion, email, payment_id))\n",
    "        \n",
    "        # Commit every 50 records and add a short delay\n",
    "        if (i + 1) % 50 == 0:\n",
    "            conn.commit()\n",
    "            time.sleep(1.0)\n",
    "            print(f\"{i + 1} orders committed.\")\n",
    "    \n",
    "    # Final commit for any remaining records\n",
    "    conn.commit()\n",
    "    print(f\"{n} orders successfully inserted into the ORDERS table.\")\n",
    "\n",
    "# Insert 220 orders\n",
    "insert_orders(220)\n"
   ]
  },
  {
   "cell_type": "code",
   "execution_count": 19,
   "metadata": {},
   "outputs": [
    {
     "name": "stdout",
     "output_type": "stream",
     "text": [
      "50 DELIVERY records committed.\n",
      "100 DELIVERY records committed.\n",
      "150 DELIVERY records committed.\n",
      "170 records successfully inserted into the DELIVERY table.\n"
     ]
    }
   ],
   "source": [
    "from datetime import timedelta, datetime\n",
    "\n",
    "# Retrieve data from the ConsumerOrderView\n",
    "cursor.execute(\"SELECT Country, Street, Postcode, Building, City, Order_number, Order_date FROM ConsumerOrderView\")\n",
    "order_data = cursor.fetchall()\n",
    "\n",
    "# Set the number of deliveries and returns\n",
    "delivery_count = 170  # Updated to 170 deliveries\n",
    "return_count = len(order_data) - delivery_count\n",
    "\n",
    "# Split the data into delivery and return records\n",
    "delivery_orders = random.sample(order_data, delivery_count)\n",
    "return_orders = [order for order in order_data if order not in delivery_orders]\n",
    "\n",
    "# Start Track_number at 100000000 and increment\n",
    "track_number_start = 100000000\n",
    "\n",
    "# Function to insert data into the DELIVERY table\n",
    "def insert_delivery_data(delivery_orders):\n",
    "    for i, record in enumerate(delivery_orders):\n",
    "        country, street, postcode, building, city, order_number, order_date_str = record\n",
    "        \n",
    "        # Convert order_date to datetime if needed\n",
    "        order_date = datetime.strptime(order_date_str, '%Y-%m-%d') if isinstance(order_date_str, str) else order_date_str\n",
    "        \n",
    "        # Calculate the delivery date\n",
    "        delivery_date = order_date + timedelta(days=random.randint(1, 15))\n",
    "        \n",
    "        # Build Customer_address\n",
    "        customer_address = f\"{street}, {building}, {city}, {postcode}, {country}\"\n",
    "        \n",
    "        # Set one random status to 1 (delivered, postponed, cancelled, pending)\n",
    "        statuses = [0, 0, 0, 0]\n",
    "        statuses[random.randint(0, 3)] = 1\n",
    "        delivered, postponed, cancelled, pending = statuses\n",
    "        \n",
    "        # Insert into DELIVERY table with incremented Track_number\n",
    "        cursor.execute(\"\"\"\n",
    "            INSERT INTO DELIVERY (Track_number, Delivery_date, Customer_address, Delivered, Postponed, Cancelled, Pending, Order_number)\n",
    "            VALUES (?, ?, ?, ?, ?, ?, ?, ?)\n",
    "        \"\"\", (track_number_start + i, delivery_date, customer_address, delivered, postponed, cancelled, pending, order_number))\n",
    "        \n",
    "        # Commit every 50 records\n",
    "        if (i + 1) % 50 == 0:\n",
    "            conn.commit()\n",
    "            print(f\"{i + 1} DELIVERY records committed.\")\n",
    "\n",
    "    conn.commit()\n",
    "    time.sleep(1)\n",
    "    print(f\"{len(delivery_orders)} records successfully inserted into the DELIVERY table.\")\n",
    "\n",
    "# Insert delivery data\n",
    "insert_delivery_data(delivery_orders)\n"
   ]
  },
  {
   "cell_type": "code",
   "execution_count": 20,
   "metadata": {},
   "outputs": [
    {
     "name": "stdout",
     "output_type": "stream",
     "text": [
      "50 RETURN records committed.\n",
      "50 records successfully inserted into the RETURN table.\n"
     ]
    }
   ],
   "source": [
    "from datetime import timedelta, datetime\n",
    "\n",
    "# Retrieve necessary fields from ConsumerOrderView for return orders\n",
    "cursor.execute(\"\"\"\n",
    "    SELECT Order_number, Order_date, Grand_total \n",
    "    FROM ConsumerOrderView\n",
    "\"\"\")\n",
    "order_data = cursor.fetchall()\n",
    "\n",
    "# Set the number of returns you want\n",
    "return_count = 50  # Adjust as needed for the number of returns\n",
    "\n",
    "# Select a subset of orders for returns\n",
    "return_orders = random.sample(order_data, return_count)\n",
    "\n",
    "# Set the starting point for Ticket_number\n",
    "ticket_number_start = 1000000  # Starting point for 7-digit Ticket_number\n",
    "\n",
    "# Function to insert data into the RETURN table\n",
    "def insert_return_data(return_orders):\n",
    "    for i, record in enumerate(return_orders):\n",
    "        order_number, order_date_str, grand_total = record\n",
    "        \n",
    "        # Convert order_date to datetime if needed\n",
    "        start_date = datetime.strptime(order_date_str, '%Y-%m-%d') if isinstance(order_date_str, str) else order_date_str\n",
    "        due_date = start_date + timedelta(days=random.randint(7, 30))\n",
    "        \n",
    "        # Generate a unique sequential 7-digit Ticket_number\n",
    "        ticket_number = ticket_number_start + i\n",
    "        \n",
    "        # Refund_total is set to Grand_total from ConsumerOrderView\n",
    "        refund_total = grand_total\n",
    "        \n",
    "        # Randomly assign one status (completed, cancelled, denied, pending) as 1\n",
    "        statuses = [0, 0, 0, 0]\n",
    "        statuses[random.randint(0, 3)] = 1\n",
    "        completed, cancelled, denied, pending = statuses\n",
    "        \n",
    "        # Insert into RETURN table\n",
    "        cursor.execute(\"\"\"\n",
    "            INSERT INTO RETURN (Ticket_number, Start_date, Due_date, Refund_total, Completed, Cancelled, Denied, Pending, Order_number)\n",
    "            VALUES (?, ?, ?, ?, ?, ?, ?, ?, ?)\n",
    "        \"\"\", (ticket_number, start_date, due_date, refund_total, completed, cancelled, denied, pending, order_number))\n",
    "        \n",
    "        # Commit every 50 records to avoid locking issues\n",
    "        if (i + 1) % 50 == 0:\n",
    "            conn.commit()\n",
    "            print(f\"{i + 1} RETURN records committed.\")\n",
    "\n",
    "    conn.commit()\n",
    "    print(f\"{len(return_orders)} records successfully inserted into the RETURN table.\")\n",
    "\n",
    "# Insert return data\n",
    "insert_return_data(return_orders)"
   ]
  },
  {
   "cell_type": "code",
   "execution_count": 21,
   "metadata": {},
   "outputs": [
    {
     "name": "stdout",
     "output_type": "stream",
     "text": [
      "50 RETURN records committed.\n",
      "50 records successfully inserted into the RETURN table.\n"
     ]
    }
   ],
   "source": [
    "import random\n",
    "from datetime import timedelta, datetime\n",
    "\n",
    "# Retrieve data from ConsumerOrderView, excluding orders already in DELIVERY\n",
    "cursor.execute(\"\"\"\n",
    "    SELECT o.Order_number, o.Grand_total, o.Order_date\n",
    "    FROM ConsumerOrderView o\n",
    "    LEFT JOIN DELIVERY d ON o.Order_number = d.Order_number\n",
    "    WHERE d.Order_number IS NULL\n",
    "\"\"\")\n",
    "return_orders = cursor.fetchall()\n",
    "\n",
    "# Function to insert data into the RETURN table\n",
    "def insert_return_data(return_orders):\n",
    "    for i, record in enumerate(return_orders):\n",
    "        order_number, grand_total, order_date_str = record\n",
    "        \n",
    "        # Convert order_date to datetime if needed\n",
    "        start_date = datetime.strptime(order_date_str, '%Y-%m-%d') if isinstance(order_date_str, str) else order_date_str\n",
    "        due_date = start_date + timedelta(days=random.randint(7, 30))\n",
    "        \n",
    "        # Generate a unique 7-digit Ticket_number\n",
    "        ticket_number = 1000000 + i  # Sequential 7-digit number starting from 1000000\n",
    "        \n",
    "        # Set refund_total to the grand_total from ConsumerOrderView\n",
    "        refund_total = grand_total\n",
    "        \n",
    "        # Set one random status to 1\n",
    "        statuses = [0, 0, 0, 0]\n",
    "        statuses[random.randint(0, 3)] = 1\n",
    "        completed, cancelled, denied, pending = statuses\n",
    "        \n",
    "        # Insert into RETURN table\n",
    "        cursor.execute(\"\"\"\n",
    "            INSERT INTO RETURN (Ticket_number, Start_date, Due_date, Refund_total, Completed, Cancelled, Denied, Pending, Order_number)\n",
    "            VALUES (?, ?, ?, ?, ?, ?, ?, ?, ?)\n",
    "        \"\"\", (ticket_number, start_date, due_date, refund_total, completed, cancelled, denied, pending, order_number))\n",
    "        \n",
    "        # Commit every 50 records\n",
    "        if (i + 1) % 50 == 0:\n",
    "            conn.commit()\n",
    "            print(f\"{i + 1} RETURN records committed.\")\n",
    "\n",
    "    conn.commit()\n",
    "    print(f\"{len(return_orders)} records successfully inserted into the RETURN table.\")\n",
    "\n",
    "# Insert data into the RETURN table\n",
    "insert_return_data(return_orders)"
   ]
  },
  {
   "cell_type": "code",
   "execution_count": 22,
   "metadata": {},
   "outputs": [
    {
     "name": "stdout",
     "output_type": "stream",
     "text": [
      "50 baskets processed.\n",
      "100 baskets processed.\n",
      "150 baskets processed.\n",
      "200 baskets processed.\n",
      "All records successfully inserted into the contains table.\n"
     ]
    }
   ],
   "source": [
    "# Retrieve all basket data (Basket_ID and Product_list) from the BASKET table\n",
    "cursor.execute(\"SELECT Basket_ID, Product_list FROM BASKET\")\n",
    "basket_data = cursor.fetchall()\n",
    "\n",
    "# Function to insert data into the CONTAINS table\n",
    "def insert_contains_data(basket_data):\n",
    "    for basket_id, product_list in basket_data:\n",
    "        # Split the product list to get individual product numbers and count occurrences\n",
    "        product_numbers = product_list.split(',')\n",
    "        \n",
    "        # Count the occurrences of each product number\n",
    "        product_counts = {}\n",
    "        for product_number in product_numbers:\n",
    "            product_number = product_number.strip()  # Remove any extra spaces\n",
    "            if product_number in product_counts:\n",
    "                product_counts[product_number] += 1\n",
    "            else:\n",
    "                product_counts[product_number] = 1\n",
    "\n",
    "        # Insert each product and its respective quantity into the CONTAINS table\n",
    "        for product_number, respective_quantity in product_counts.items():\n",
    "            cursor.execute(\"\"\"\n",
    "                INSERT INTO contains (Basket_ID, Product_number, Respective_quantity)\n",
    "                VALUES (?, ?, ?)\n",
    "            \"\"\", (basket_id, int(product_number), respective_quantity))\n",
    "        \n",
    "        # Commit every 50 baskets and add a short delay\n",
    "        if basket_id % 50 == 0:\n",
    "            conn.commit()\n",
    "            time.sleep(0.5)\n",
    "            print(f\"{basket_id} baskets processed.\")\n",
    "\n",
    "    # Final commit for any remaining records\n",
    "    conn.commit()\n",
    "    print(\"All records successfully inserted into the contains table.\")\n",
    "\n",
    "# Call the function to populate the CONTAINS table\n",
    "insert_contains_data(basket_data)"
   ]
  },
  {
   "cell_type": "code",
   "execution_count": 23,
   "metadata": {},
   "outputs": [
    {
     "name": "stdout",
     "output_type": "stream",
     "text": [
      "50 orders processed.\n",
      "100 orders processed.\n",
      "150 orders processed.\n",
      "200 orders processed.\n",
      "All records successfully inserted into the includes table.\n"
     ]
    }
   ],
   "source": [
    "# Retrieve all order data (Order_number and Product) from the ORDERS table\n",
    "cursor.execute(\"SELECT Order_number, Product FROM ORDERS\")\n",
    "order_data = cursor.fetchall()\n",
    "\n",
    "# Function to insert data into the INCLUDES table\n",
    "def insert_includes_data(order_data):\n",
    "    for order_number, product_list in order_data:\n",
    "        # Split the comma-separated product numbers list\n",
    "        product_numbers = product_list.split(',')\n",
    "        \n",
    "        # Count occurrences of each product to determine respective quantities\n",
    "        product_counts = {}\n",
    "        for product_number in product_numbers:\n",
    "            product_counts[product_number] = product_counts.get(product_number, 0) + 1\n",
    "\n",
    "        # Insert each product with its respective quantity into the INCLUDES table\n",
    "        for product_number, quantity in product_counts.items():\n",
    "            cursor.execute(\"\"\"\n",
    "                INSERT INTO includes (Order_number, Product_number, Quantity)\n",
    "                VALUES (?, ?, ?)\n",
    "            \"\"\", (order_number, int(product_number), quantity))\n",
    "\n",
    "        # Commit every 50 records and add a short delay\n",
    "        if order_number % 50 == 0:\n",
    "            conn.commit()\n",
    "            time.sleep(0.5)\n",
    "            print(f\"{order_number} orders processed.\")\n",
    "\n",
    "    # Final commit for any remaining records\n",
    "    conn.commit()\n",
    "    print(\"All records successfully inserted into the includes table.\")\n",
    "\n",
    "# Call the function to populate the INCLUDES table\n",
    "insert_includes_data(order_data)"
   ]
  },
  {
   "cell_type": "code",
   "execution_count": 24,
   "metadata": {},
   "outputs": [
    {
     "name": "stdout",
     "output_type": "stream",
     "text": [
      "Data from review_table.csv successfully inserted into the REVIEW table.\n"
     ]
    }
   ],
   "source": [
    "import pandas as pd\n",
    "import sqlite3\n",
    "\n",
    "# Load the CSV data into a DataFrame\n",
    "review_data = pd.read_csv('Review_table.csv')\n",
    "\n",
    "# Connect to the SQLite database\n",
    "conn = sqlite3.connect('E-commerce.db')\n",
    "\n",
    "# Insert the data into the REVIEW table\n",
    "review_data.to_sql('REVIEW', conn, if_exists='append', index=False)\n",
    "\n",
    "# Commit and close the connection\n",
    "conn.commit()\n",
    "\n",
    "print(\"Data from review_table.csv successfully inserted into the REVIEW table.\")"
   ]
  },
  {
   "cell_type": "code",
   "execution_count": 25,
   "metadata": {},
   "outputs": [],
   "source": [
    "conn.close()"
   ]
  }
 ],
 "metadata": {
  "kernelspec": {
   "display_name": "Python 3",
   "language": "python",
   "name": "python3"
  },
  "language_info": {
   "codemirror_mode": {
    "name": "ipython",
    "version": 3
   },
   "file_extension": ".py",
   "mimetype": "text/x-python",
   "name": "python",
   "nbconvert_exporter": "python",
   "pygments_lexer": "ipython3",
   "version": "3.11.5"
  },
  "orig_nbformat": 4
 },
 "nbformat": 4,
 "nbformat_minor": 2
}
