{
 "cells": [
  {
   "cell_type": "code",
   "execution_count": null,
   "metadata": {},
   "outputs": [],
   "source": [
    "import sqlite3\n",
    "\n",
    "# Connect to your SQLite database\n",
    "conn = sqlite3.connect('E-commerce.db')\n",
    "cursor = conn.cursor()"
   ]
  },
  {
   "cell_type": "code",
   "execution_count": null,
   "metadata": {},
   "outputs": [],
   "source": [
    "# Function to test inserting an order with the trigger\n",
    "def insert_order(order_number, payment_id, subtotal, deduction_promotion):\n",
    "    try:\n",
    "        cursor.execute(\"\"\"\n",
    "            INSERT INTO ORDERS (Order_number, Order_date, Product, Subtotal, Deduction_Promotion, Email, Payment_ID)\n",
    "            VALUES (?, DATE('now'), 'Sample Product', ?, ?, 'test_email@example.com', ?)\n",
    "        \"\"\", (order_number, subtotal, deduction_promotion, payment_id))\n",
    "        \n",
    "        # Commit if successful\n",
    "        conn.commit()\n",
    "        print(f\"Order {order_number} inserted successfully.\")\n",
    "\n",
    "    except sqlite3.IntegrityError as e:\n",
    "        # Trigger error message\n",
    "        print(f\"Trigger fired for Order {order_number}: {e}\")\n",
    "        conn.rollback()\n",
    "    \n",
    "    except Exception as e:\n",
    "        # General error\n",
    "        print(f\"An error occurred: {e}\")\n",
    "        conn.rollback()\n",
    "\n",
    "# Test Cases\n",
    "# Case 1: Order that passes (balance is sufficient)\n",
    "insert_order(order_number=500, payment_id=2, subtotal=1000, deduction_promotion=10)\n",
    "\n",
    "# Case 2: Order that triggers the trigger (balance insufficient)\n",
    "insert_order(order_number=501, payment_id=5, subtotal=1500, deduction_promotion=10)"
   ]
  }
 ],
 "metadata": {
  "language_info": {
   "name": "python"
  },
  "orig_nbformat": 4
 },
 "nbformat": 4,
 "nbformat_minor": 2
}
